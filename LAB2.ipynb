{
 "metadata": {
  "kernelspec": {
   "display_name": "Streamlit Notebook",
   "name": "streamlit"
  }
 },
 "nbformat_minor": 5,
 "nbformat": 4,
 "cells": [
  {
   "cell_type": "markdown",
   "id": "eaa7d111-4763-489e-b905-f7fa8f4472e8",
   "metadata": {
    "name": "cell6",
    "collapsed": false
   },
   "source": "In the below cell you will setup your catalog interation with Polaris.\nYou will need to replace `<username>` with your previusly used username, either CAS2 login or email address.\nYou will also need to replace `<client id>` and `<secret id>` with the details from your polaris catalog."
  },
  {
   "cell_type": "code",
   "id": "9403c18c-d687-4c7e-b024-96d861910517",
   "metadata": {
    "language": "sql",
    "name": "cell8",
    "collapsed": false
   },
   "outputs": [],
   "source": "create database if not exists <username>;\ncreate schema if not exists <username>.LAB2;\nuse schema <username>.LAB2;\n\nCREATE OR REPLACE CATALOG INTEGRATION <username>_polaris_int\nCATALOG_SOURCE=POLARIS \nTABLE_FORMAT=ICEBERG \nCATALOG_NAMESPACE='<username>' \nREST_CONFIG = (\nCATALOG_URI ='https://tzb93977.snowflakecomputing.com/polaris/api/catalog' \nWAREHOUSE = 'apj_ps_tmup_int'\n)\nREST_AUTHENTICATION = (\nTYPE=OAUTH \nOAUTH_CLIENT_ID='<client id>' \nOAUTH_CLIENT_SECRET='<secret id>' \nOAUTH_ALLOWED_SCOPES=('PRINCIPAL_ROLE:ALL') \n) \nENABLED=true;",
   "execution_count": null
  },
  {
   "cell_type": "markdown",
   "id": "2b0c3c7f-6108-46c4-bc49-b0e3432ddc79",
   "metadata": {
    "name": "cell10",
    "collapsed": false
   },
   "source": "The below cell with test your catalog integration and should return nothing. Check your details if you have an issue with the connection "
  },
  {
   "cell_type": "code",
   "id": "e16aa42a-5cce-4f24-88a4-5527025a1e16",
   "metadata": {
    "language": "sql",
    "name": "cell5",
    "collapsed": false
   },
   "outputs": [],
   "source": "SELECT SYSTEM$LIST_NAMESPACES_FROM_CATALOG('<username>_polaris_int');",
   "execution_count": null
  },
  {
   "cell_type": "markdown",
   "id": "be842ee1-241f-4664-9f5c-4d2471c776e9",
   "metadata": {
    "name": "cell9",
    "collapsed": false
   },
   "source": "You will need to create an external volume for Snowflake to be able to access the parquet files that make up your Iceberg table. This external volume can be used to access multiple tables."
  },
  {
   "cell_type": "code",
   "id": "d76135f6-541a-4753-a013-5d6a90069479",
   "metadata": {
    "language": "sql",
    "name": "cell1",
    "collapsed": false,
    "codeCollapsed": false
   },
   "outputs": [],
   "source": "-- the <catalog_name> created in previous step is demo_catalog_ext.\n\nCREATE OR REPLACE EXTERNAL VOLUME <username>_polaris_exvol_int\n  STORAGE_LOCATIONS =\n      (\n        (\n            NAME = 'my-s3-us-west-2'\n            STORAGE_PROVIDER = 'S3'\n            STORAGE_BASE_URL = 's3://apj-ps-tmup/int/'\n            STORAGE_AWS_ROLE_ARN = 'arn:aws:iam::087354435437:role/apj_ps_tmup'\n            STORAGE_AWS_EXTERNAL_ID = 'polaris_hol'\n        )\n      );\n",
   "execution_count": null
  },
  {
   "cell_type": "markdown",
   "id": "9d4e6ddd-c848-469c-b661-229653d91e97",
   "metadata": {
    "name": "cell3",
    "collapsed": false
   },
   "source": "In the below cells you'll create the Polaris managed Iceberg table. This is often refered to as an Unamanged Iceberg table because Snowflake does not manage the Iceberg tables catalog or writing of its files.\n\nYou will need to replace `<username>` with your previously used username."
  },
  {
   "cell_type": "code",
   "id": "9ebaca78-8dad-4ad2-9de6-c5546d0795eb",
   "metadata": {
    "language": "sql",
    "name": "cell2",
    "codeCollapsed": false,
    "collapsed": false
   },
   "outputs": [],
   "source": "create or replace iceberg table <username>.LAB2.apj_ps_managed\n  catalog = '<username>_polaris_int'\n  external_volume = '<username>_polaris_exvol_int'\n  catalog_table_name = 'apj_ps_managed';\n",
   "execution_count": null
  },
  {
   "cell_type": "markdown",
   "id": "1c85b9bd-d296-4767-ba1d-b7020a43cf03",
   "metadata": {
    "name": "cell7",
    "collapsed": false
   },
   "source": "You should be able to select from the table and see the singe record just like inthe Jupyter notebook."
  },
  {
   "cell_type": "code",
   "id": "d0a869ef-cafa-4fc5-9be8-3f56d9a53f5a",
   "metadata": {
    "language": "sql",
    "name": "cell4",
    "codeCollapsed": false,
    "collapsed": false
   },
   "outputs": [],
   "source": "select * from <username>.LAB2.apj_ps_managed;\n\n  ",
   "execution_count": null
  },
  {
   "cell_type": "code",
   "id": "c8798c29-aeb5-4acc-bb71-45f2cdefd87a",
   "metadata": {
    "language": "sql",
    "name": "cell12"
   },
   "outputs": [],
   "source": "insert into <username>.LAB2.apj_ps_managed values (1);",
   "execution_count": null
  },
  {
   "cell_type": "markdown",
   "id": "0b61ea47-6460-4d03-84e5-d020a6087949",
   "metadata": {
    "name": "cell13",
    "collapsed": false
   },
   "source": "The above SQL fails because this is an unmanaged Iceberg table. In the next lab you will create a Snowflake managed Iceberg table where you will be able to write from Snowflake."
  },
  {
   "cell_type": "markdown",
   "id": "1212aaae-7ac5-4a92-b6af-c849e700dd61",
   "metadata": {
    "name": "cell11",
    "collapsed": false
   },
   "source": "The lab is complete. You will now move onto LAB3."
  }
 ]
}