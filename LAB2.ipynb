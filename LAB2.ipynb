{
 "cells": [
  {
   "cell_type": "markdown",
   "id": "eaa7d111-4763-489e-b905-f7fa8f4472e8",
   "metadata": {
    "collapsed": false,
    "name": "cell6"
   },
   "source": [
    "In the below cell you will setup your catalog integration with Polaris.\n",
    "You will need to replace `<username>` with your previously used username.\n",
    "You will also need to replace `<client id>` and `<secret id>` with the details from your polaris catalog."
   ]
  },
  {
   "cell_type": "code",
   "execution_count": null,
   "id": "9403c18c-d687-4c7e-b024-96d861910517",
   "metadata": {
    "collapsed": false,
    "language": "sql",
    "name": "cell8"
   },
   "outputs": [],
   "source": [
    "use role accountadmin;\n",
    "create database if not exists <username>;\n",
    "create schema if not exists <username>.LAB2;\n",
    "use schema <username>.LAB2;\n",
    "\n",
    "CREATE OR REPLACE CATALOG INTEGRATION <username>_polaris_int\n",
    "CATALOG_SOURCE=POLARIS \n",
    "TABLE_FORMAT=ICEBERG \n",
    "CATALOG_NAMESPACE='<username>' \n",
    "REST_CONFIG = (\n",
    "CATALOG_URI ='https://tzb93977.snowflakecomputing.com/polaris/api/catalog' \n",
    "WAREHOUSE = 'apj_ps_tmup_int'\n",
    ")\n",
    "REST_AUTHENTICATION = (\n",
    "TYPE=OAUTH \n",
    "OAUTH_CLIENT_ID='<client id>' \n",
    "OAUTH_CLIENT_SECRET='<secret id>' \n",
    "OAUTH_ALLOWED_SCOPES=('PRINCIPAL_ROLE:ALL') \n",
    ") \n",
    "ENABLED=true;"
   ]
  },
  {
   "cell_type": "markdown",
   "id": "2b0c3c7f-6108-46c4-bc49-b0e3432ddc79",
   "metadata": {
    "collapsed": false,
    "name": "cell10"
   },
   "source": [
    "The below cell will test your catalog integration and should return nothing. Check your details if you have an issue with the connection.\n",
    "Replace `<catalog integration>` with the name of the catalog integration you just created."
   ]
  },
  {
   "cell_type": "code",
   "execution_count": null,
   "id": "e16aa42a-5cce-4f24-88a4-5527025a1e16",
   "metadata": {
    "collapsed": false,
    "language": "sql",
    "name": "cell5"
   },
   "outputs": [],
   "source": [
    "SELECT SYSTEM$LIST_NAMESPACES_FROM_CATALOG('<catalog integration>');"
   ]
  },
  {
   "cell_type": "markdown",
   "id": "be842ee1-241f-4664-9f5c-4d2471c776e9",
   "metadata": {
    "collapsed": false,
    "name": "cell9"
   },
   "source": [
    "You will need to create an external volume for Snowflake to be able to access the parquet files that make up your Iceberg table. This external volume can be used to access multiple tables. Replace `<username>` with your CAS2 login."
   ]
  },
  {
   "cell_type": "code",
   "execution_count": null,
   "id": "d76135f6-541a-4753-a013-5d6a90069479",
   "metadata": {
    "codeCollapsed": false,
    "collapsed": false,
    "language": "sql",
    "name": "cell1"
   },
   "outputs": [],
   "source": [
    "CREATE OR REPLACE EXTERNAL VOLUME <username>_polaris_exvol_int\n",
    "  STORAGE_LOCATIONS =\n",
    "      (\n",
    "        (\n",
    "            NAME = 'my-s3-us-west-2'\n",
    "            STORAGE_PROVIDER = 'S3'\n",
    "            STORAGE_BASE_URL = 's3://apj-ps-tmup/int/'\n",
    "            STORAGE_AWS_ROLE_ARN = 'arn:aws:iam::087354435437:role/apj_ps_tmup'\n",
    "            STORAGE_AWS_EXTERNAL_ID = 'polaris_hol'\n",
    "        )\n",
    "      );\n"
   ]
  },
  {
   "cell_type": "markdown",
   "id": "9d4e6ddd-c848-469c-b661-229653d91e97",
   "metadata": {
    "collapsed": false,
    "name": "cell3"
   },
   "source": [
    "In the below cells you'll create the Polaris managed Iceberg table. This is often refered to as an Unamanged Iceberg table because Snowflake does not manage the Iceberg tables catalog or writing of its files.\n",
    "\n",
    "You will need to replace `<catalog integration>` and `<external volume>` with the object names you just created above. "
   ]
  },
  {
   "cell_type": "code",
   "execution_count": null,
   "id": "9ebaca78-8dad-4ad2-9de6-c5546d0795eb",
   "metadata": {
    "codeCollapsed": false,
    "collapsed": false,
    "language": "sql",
    "name": "cell2"
   },
   "outputs": [],
   "source": [
    "create or replace iceberg table apj_ps_managed\n",
    "  catalog = '<catalog integration>'\n",
    "  external_volume = '<external volume>'\n",
    "  catalog_table_name = 'apj_ps_managed';\n"
   ]
  },
  {
   "cell_type": "markdown",
   "id": "1c85b9bd-d296-4767-ba1d-b7020a43cf03",
   "metadata": {
    "collapsed": false,
    "name": "cell7"
   },
   "source": [
    "You should be able to select from the table and see the single record just like inthe Jupyter notebook."
   ]
  },
  {
   "cell_type": "code",
   "execution_count": null,
   "id": "d0a869ef-cafa-4fc5-9be8-3f56d9a53f5a",
   "metadata": {
    "codeCollapsed": false,
    "collapsed": false,
    "language": "sql",
    "name": "cell4"
   },
   "outputs": [],
   "source": [
    "select * from apj_ps_managed;\n",
    "\n",
    "  "
   ]
  },
  {
   "cell_type": "code",
   "execution_count": null,
   "id": "c8798c29-aeb5-4acc-bb71-45f2cdefd87a",
   "metadata": {
    "language": "sql",
    "name": "cell12"
   },
   "outputs": [],
   "source": [
    "insert into apj_ps_managed values (1);"
   ]
  },
  {
   "cell_type": "markdown",
   "id": "0b61ea47-6460-4d03-84e5-d020a6087949",
   "metadata": {
    "collapsed": false,
    "name": "cell13"
   },
   "source": [
    "The above SQL fails because this is an unmanaged Iceberg table. In the next lab you will create a Snowflake managed Iceberg table where you will be able to write from Snowflake.\n",
    "\n",
    "Go back to LAB1 notebook and insert another record. \n",
    "Once you have insert the new record, refresh the Iceberg table and you should see the new record here."
   ]
  },
  {
   "cell_type": "code",
   "execution_count": null,
   "id": "f2cf98e8-8964-487c-a4aa-bc815c49f059",
   "metadata": {
    "codeCollapsed": false,
    "language": "sql",
    "name": "cell14"
   },
   "outputs": [],
   "source": [
    "alter iceberg table apj_ps_managed refresh;\n",
    "\n",
    "select * from apj_ps_managed;"
   ]
  },
  {
   "cell_type": "markdown",
   "id": "1212aaae-7ac5-4a92-b6af-c849e700dd61",
   "metadata": {
    "collapsed": false,
    "name": "cell11"
   },
   "source": [
    "The lab is complete when you can see the new record. You will now move onto LAB3."
   ]
  }
 ],
 "metadata": {
  "kernelspec": {
   "display_name": "Streamlit Notebook",
   "name": "streamlit"
  }
 },
 "nbformat": 4,
 "nbformat_minor": 5
}
