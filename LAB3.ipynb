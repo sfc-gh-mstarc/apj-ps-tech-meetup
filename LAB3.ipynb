{
 "metadata": {
  "kernelspec": {
   "display_name": "Streamlit Notebook",
   "name": "streamlit"
  }
 },
 "nbformat_minor": 5,
 "nbformat": 4,
 "cells": [
  {
   "cell_type": "markdown",
   "id": "4c0d6499-f5cf-4f40-b1ad-edec0df4145c",
   "metadata": {
    "name": "cell16",
    "collapsed": false
   },
   "source": "In the below cell you will setup your catalog interation with Polaris, this time Snowflake will be the primary Iceberg catalog and we will sync our Iceberg tables to Polaris to allow other compute engines to read from this table.\nYou will need to replace `<username>` with your previusly used username, either CAS2 login or email address.\nYou will also need to replace `<client id>` and `<secret id>` with the details from your polaris catalog connection to `apj_ps_tmup_ext`."
  },
  {
   "cell_type": "code",
   "id": "44077f96-e501-47d1-b1a6-f7333903201e",
   "metadata": {
    "language": "sql",
    "name": "cell9"
   },
   "outputs": [],
   "source": "create database if not exists <username>;\ncreate schema if not exists <username>.LAB3;\nuse schema <username>.LAB3;\n\nCREATE OR REPLACE CATALOG INTEGRATION <username>_polaris_ext\nCATALOG_SOURCE=POLARIS \nTABLE_FORMAT=ICEBERG \nCATALOG_NAMESPACE='default' \nREST_CONFIG = (\nCATALOG_URI ='https://tzb93977.snowflakecomputing.com/polaris/api/catalog' \nWAREHOUSE = 'apj_ps_tmup_ext'\n)\nREST_AUTHENTICATION = (\nTYPE=OAUTH \nOAUTH_CLIENT_ID='<client id>' \nOAUTH_CLIENT_SECRET='<secret id>' \nOAUTH_ALLOWED_SCOPES=('PRINCIPAL_ROLE:ALL') \n) \nENABLED=true;\n",
   "execution_count": null
  },
  {
   "cell_type": "markdown",
   "id": "55ebea56-1d67-4972-851b-252a3fafe49c",
   "metadata": {
    "name": "cell3",
    "collapsed": false
   },
   "source": "The below cell with test your catalog integration and should return an empty array `[]`. Check your client details if you have an issue with the connection."
  },
  {
   "cell_type": "code",
   "id": "f4bd197b-a047-4325-896c-2266ad1656b3",
   "metadata": {
    "language": "sql",
    "name": "cell20",
    "collapsed": false,
    "codeCollapsed": false
   },
   "outputs": [],
   "source": "SELECT SYSTEM$LIST_NAMESPACES_FROM_CATALOG('<username>_polaris_ext');",
   "execution_count": null
  },
  {
   "cell_type": "markdown",
   "id": "6abf9969-8933-4258-9851-9949bb9c90a8",
   "metadata": {
    "name": "cell7",
    "collapsed": false
   },
   "source": "You will need to create an external volume for Snowflake to be able to write the parquet files that make up your Iceberg table. This external volume can be used to access multiple tables. Replace `<username>` in the below cells with your username"
  },
  {
   "cell_type": "code",
   "id": "d76135f6-541a-4753-a013-5d6a90069479",
   "metadata": {
    "language": "sql",
    "name": "cell1",
    "collapsed": false,
    "codeCollapsed": false
   },
   "outputs": [],
   "source": "CREATE OR REPLACE EXTERNAL VOLUME <username>_polaris_exvol_ext\n  STORAGE_LOCATIONS =\n      (\n        (\n            NAME = 'my-s3-us-west-2'\n            STORAGE_PROVIDER = 'S3'\n            STORAGE_BASE_URL = 's3://apj-ps-tmup/ext/'\n            STORAGE_AWS_ROLE_ARN = 'arn:aws:iam::087354435437:role/apj_ps_tmup'\n            STORAGE_AWS_EXTERNAL_ID = 'polaris_hol'\n        )\n      );\n",
   "execution_count": null
  },
  {
   "cell_type": "markdown",
   "id": "c3132b8d-d418-4c8a-8bcd-7551bae1cbb5",
   "metadata": {
    "name": "cell10",
    "collapsed": false
   },
   "source": "Next create the Iceberg table that will be synced to Polaris catalog. You can see the extra parameter `CATALOG_SYNC`"
  },
  {
   "cell_type": "code",
   "id": "9ebaca78-8dad-4ad2-9de6-c5546d0795eb",
   "metadata": {
    "language": "sql",
    "name": "cell2",
    "codeCollapsed": false,
    "collapsed": false
   },
   "outputs": [],
   "source": "CREATE OR REPLACE ICEBERG TABLE <username>.LAB3.test_table_managed (col1 int)\n  CATALOG = 'SNOWFLAKE'\n  EXTERNAL_VOLUME = '<username>_polaris_exvol'\n  BASE_LOCATION = 'test_table_managed'\n  STORAGE_SERIALIZATION_POLICY = 'COMPATIBLE'\n  CATALOG_SYNC = '<username>_polaris_ext'; \n",
   "execution_count": null
  },
  {
   "cell_type": "code",
   "id": "d0a869ef-cafa-4fc5-9be8-3f56d9a53f5a",
   "metadata": {
    "language": "sql",
    "name": "cell4",
    "codeCollapsed": false,
    "collapsed": false
   },
   "outputs": [],
   "source": "select * from <username>.LAB3.test_table_managed;\n\n",
   "execution_count": null
  },
  {
   "cell_type": "code",
   "id": "491e3249-b0c9-4729-9e27-28ec0a172590",
   "metadata": {
    "language": "sql",
    "name": "cell5",
    "collapsed": false
   },
   "outputs": [],
   "source": "insert into <username>.LAB3.test_table_managed values (3);\n  \n",
   "execution_count": null
  },
  {
   "cell_type": "code",
   "id": "5971d815-6268-4ae5-9a12-c8aaf782d869",
   "metadata": {
    "language": "sql",
    "name": "cell6",
    "collapsed": false
   },
   "outputs": [],
   "source": "select * from <username>.LAB3.test_table_managed;",
   "execution_count": null
  },
  {
   "cell_type": "markdown",
   "id": "00ff4070-0562-44ad-8b50-2c45c16257ca",
   "metadata": {
    "name": "cell11",
    "collapsed": false
   },
   "source": "The below command forces a sync to Polaris. It is not a requirement to run it, but if you table hasn't synced to Polaris in several minutes it can show the error that occured."
  },
  {
   "cell_type": "code",
   "id": "da95790b-39ea-4e42-81e1-cc4deca9fb4c",
   "metadata": {
    "language": "sql",
    "name": "cell8",
    "collapsed": false
   },
   "outputs": [],
   "source": "SELECT VALUE[0]::STRING AS tableName,\n       VALUE[1]::BOOLEAN notificationStatus,\n       VALUE[2]::STRING errorCode,\n       VALUE[3]::STRING errorMessage\n  FROM TABLE(FLATTEN(PARSE_JSON(\n    SELECT SYSTEM$SEND_NOTIFICATIONS_TO_CATALOG(\n      'SCHEMA',\n      'LAB3'))));",
   "execution_count": null
  },
  {
   "cell_type": "markdown",
   "id": "da37d4c7-7898-4c2f-b901-ab5e9b419733",
   "metadata": {
    "name": "cell14",
    "collapsed": false
   },
   "source": "The Lab is complete when you can see the table `test_table_managed` under your namespace in Polaris."
  }
 ]
}