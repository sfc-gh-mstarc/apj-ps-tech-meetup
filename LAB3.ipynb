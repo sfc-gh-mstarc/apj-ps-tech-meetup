{
 "cells": [
  {
   "cell_type": "markdown",
   "id": "4c0d6499-f5cf-4f40-b1ad-edec0df4145c",
   "metadata": {
    "collapsed": false,
    "name": "cell16"
   },
   "source": [
    "In the below cell you will setup your catalog integration with Polaris, this time Snowflake will be the primary Iceberg catalog and we will sync our Iceberg tables to Polaris to allow other compute engines to read from this table.\n",
    "You will need to replace `<username>` with your previously used username, either CAS2 login or email address.\n",
    "You will also need to replace `<client id>` and `<secret id>` with the details from your polaris catalog connection to `apj_ps_tmup_ext`."
   ]
  },
  {
   "cell_type": "code",
   "execution_count": null,
   "id": "44077f96-e501-47d1-b1a6-f7333903201e",
   "metadata": {
    "language": "sql",
    "name": "cell9"
   },
   "outputs": [],
   "source": [
    "use role accountadmin;\n",
    "create database if not exists <username>;\n",
    "create schema if not exists <username>.LAB3;\n",
    "use schema <username>.LAB3;\n",
    "\n",
    "CREATE OR REPLACE CATALOG INTEGRATION <username>_polaris_ext\n",
    "CATALOG_SOURCE=POLARIS \n",
    "TABLE_FORMAT=ICEBERG \n",
    "CATALOG_NAMESPACE='default' \n",
    "REST_CONFIG = (\n",
    "CATALOG_URI ='https://tzb93977.snowflakecomputing.com/polaris/api/catalog' \n",
    "WAREHOUSE = 'apj_ps_tmup_ext'\n",
    ")\n",
    "REST_AUTHENTICATION = (\n",
    "TYPE=OAUTH \n",
    "OAUTH_CLIENT_ID='<client id>' \n",
    "OAUTH_CLIENT_SECRET='<secret id>' \n",
    "OAUTH_ALLOWED_SCOPES=('PRINCIPAL_ROLE:ALL') \n",
    ") \n",
    "ENABLED=true;\n"
   ]
  },
  {
   "cell_type": "markdown",
   "id": "55ebea56-1d67-4972-851b-252a3fafe49c",
   "metadata": {
    "collapsed": false,
    "name": "cell3"
   },
   "source": [
    "The below cell with test your catalog integration and should return an empty array `[]`. \n",
    "Replace `<catalog integration>` with the name of the integration you creted above.\n",
    "Check your client details if you have an issue with the connection."
   ]
  },
  {
   "cell_type": "code",
   "execution_count": null,
   "id": "f4bd197b-a047-4325-896c-2266ad1656b3",
   "metadata": {
    "codeCollapsed": false,
    "collapsed": false,
    "language": "sql",
    "name": "cell20"
   },
   "outputs": [],
   "source": [
    "SELECT SYSTEM$LIST_NAMESPACES_FROM_CATALOG('<catalog integration>');"
   ]
  },
  {
   "cell_type": "markdown",
   "id": "6abf9969-8933-4258-9851-9949bb9c90a8",
   "metadata": {
    "collapsed": false,
    "name": "cell7"
   },
   "source": [
    "You will need to create an external volume for Snowflake to be able to write the parquet files that make up your Iceberg table. This external volume can be used to access multiple tables. Replace `<username>` in the below cells with your username"
   ]
  },
  {
   "cell_type": "code",
   "execution_count": null,
   "id": "d76135f6-541a-4753-a013-5d6a90069479",
   "metadata": {
    "codeCollapsed": false,
    "collapsed": false,
    "language": "sql",
    "name": "cell1"
   },
   "outputs": [],
   "source": [
    "CREATE OR REPLACE EXTERNAL VOLUME <username>_polaris_exvol_ext\n",
    "  STORAGE_LOCATIONS =\n",
    "      (\n",
    "        (\n",
    "            NAME = 'my-s3-us-west-2'\n",
    "            STORAGE_PROVIDER = 'S3'\n",
    "            STORAGE_BASE_URL = 's3://apj-ps-tmup/ext/'\n",
    "            STORAGE_AWS_ROLE_ARN = 'arn:aws:iam::087354435437:role/apj_ps_tmup'\n",
    "            STORAGE_AWS_EXTERNAL_ID = 'polaris_hol'\n",
    "        )\n",
    "      );\n"
   ]
  },
  {
   "cell_type": "markdown",
   "id": "c3132b8d-d418-4c8a-8bcd-7551bae1cbb5",
   "metadata": {
    "collapsed": false,
    "name": "cell10"
   },
   "source": [
    "Next create the Iceberg table that will be synced to Polaris catalog. You can see the extra parameter `CATALOG_SYNC`\n",
    "Replace `<catalog integration>` and `<external volume>` with the catalog integration name and external volumne name you created above. "
   ]
  },
  {
   "cell_type": "code",
   "execution_count": null,
   "id": "9ebaca78-8dad-4ad2-9de6-c5546d0795eb",
   "metadata": {
    "codeCollapsed": false,
    "collapsed": false,
    "language": "sql",
    "name": "cell2"
   },
   "outputs": [],
   "source": [
    "CREATE OR REPLACE ICEBERG TABLE test_table_managed (col1 int)\n",
    "  CATALOG = 'SNOWFLAKE'\n",
    "  EXTERNAL_VOLUME = '<external volume>'\n",
    "  BASE_LOCATION = 'test_table_managed'\n",
    "  STORAGE_SERIALIZATION_POLICY = 'COMPATIBLE'\n",
    "  CATALOG_SYNC = '<catalog integration>'; \n"
   ]
  },
  {
   "cell_type": "code",
   "execution_count": null,
   "id": "d0a869ef-cafa-4fc5-9be8-3f56d9a53f5a",
   "metadata": {
    "codeCollapsed": false,
    "collapsed": false,
    "language": "sql",
    "name": "cell4"
   },
   "outputs": [],
   "source": [
    "select * from test_table_managed;\n",
    "\n"
   ]
  },
  {
   "cell_type": "code",
   "execution_count": null,
   "id": "491e3249-b0c9-4729-9e27-28ec0a172590",
   "metadata": {
    "collapsed": false,
    "language": "sql",
    "name": "cell5"
   },
   "outputs": [],
   "source": [
    "insert into test_table_managed values (3);\n",
    "  \n"
   ]
  },
  {
   "cell_type": "code",
   "execution_count": null,
   "id": "5971d815-6268-4ae5-9a12-c8aaf782d869",
   "metadata": {
    "collapsed": false,
    "language": "sql",
    "name": "cell6"
   },
   "outputs": [],
   "source": [
    "select * from test_table_managed;"
   ]
  },
  {
   "cell_type": "markdown",
   "id": "00ff4070-0562-44ad-8b50-2c45c16257ca",
   "metadata": {
    "collapsed": false,
    "name": "cell11"
   },
   "source": [
    "The below command forces a sync to Polaris. It is not a requirement to run it, but if you table hasn't synced to Polaris in several minutes it can show the error that occured."
   ]
  },
  {
   "cell_type": "code",
   "execution_count": null,
   "id": "da95790b-39ea-4e42-81e1-cc4deca9fb4c",
   "metadata": {
    "collapsed": false,
    "language": "sql",
    "name": "cell8"
   },
   "outputs": [],
   "source": [
    "SELECT VALUE[0]::STRING AS tableName,\n",
    "       VALUE[1]::BOOLEAN notificationStatus,\n",
    "       VALUE[2]::STRING errorCode,\n",
    "       VALUE[3]::STRING errorMessage\n",
    "  FROM TABLE(FLATTEN(PARSE_JSON(\n",
    "    SELECT SYSTEM$SEND_NOTIFICATIONS_TO_CATALOG(\n",
    "      'SCHEMA',\n",
    "      'LAB3'))));"
   ]
  },
  {
   "cell_type": "markdown",
   "id": "da37d4c7-7898-4c2f-b901-ab5e9b419733",
   "metadata": {
    "collapsed": false,
    "name": "cell14"
   },
   "source": [
    "The Lab is complete when you can see the table `test_table_managed` under your namespace in Polaris."
   ]
  }
 ],
 "metadata": {
  "kernelspec": {
   "display_name": "Streamlit Notebook",
   "name": "streamlit"
  }
 },
 "nbformat": 4,
 "nbformat_minor": 5
}
